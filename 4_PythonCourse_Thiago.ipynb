{
 "cells": [
  {
   "cell_type": "markdown",
   "metadata": {},
   "source": [
    "# Special Function in Thiago's Paper\n",
    "[Source: https://ieeexplore.ieee.org/document/8511780 ]"
   ]
  },
  {
   "cell_type": "code",
   "execution_count": 1,
   "metadata": {},
   "outputs": [
    {
     "name": "stdout",
     "output_type": "stream",
     "text": [
      "diagflat default diagonal : \n",
      " [[51  0  0]\n",
      " [ 0 67  0]\n",
      " [ 0  0 69]]\n",
      "diagflat above main diagonal : \n",
      " [[ 0 51  0  0]\n",
      " [ 0  0 67  0]\n",
      " [ 0  0  0 69]\n",
      " [ 0  0  0  0]]\n",
      "diagflat above main diagonal : \n",
      " [[ 0  0 51  0  0]\n",
      " [ 0  0  0 67  0]\n",
      " [ 0  0  0  0 69]\n",
      " [ 0  0  0  0  0]\n",
      " [ 0  0  0  0  0]]\n"
     ]
    }
   ],
   "source": [
    "import numpy as np\n",
    "\n",
    "# Diagonal Matrix\n",
    "print(\"diagflat default diagonal : \\n\", np.diagflat([51, 67, 69]))\n",
    "print(\"diagflat above main diagonal : \\n\", np.diagflat([51, 67, 69], 1))\n",
    "print(\"diagflat above main diagonal : \\n\", np.diagflat([51, 67, 69], 2))\n"
   ]
  },
  {
   "cell_type": "code",
   "execution_count": 2,
   "metadata": {},
   "outputs": [
    {
     "name": "stdout",
     "output_type": "stream",
     "text": [
      "Identity matrix : \n",
      " [[1. 0. 0. 0. 0.]\n",
      " [0. 1. 0. 0. 0.]\n",
      " [0. 0. 1. 0. 0.]\n",
      " [0. 0. 0. 1. 0.]\n",
      " [0. 0. 0. 0. 1.]]\n"
     ]
    }
   ],
   "source": [
    "# Identity Matrix\n",
    "print(\"Identity matrix : \\n\", np.eye(5))"
   ]
  },
  {
   "cell_type": "code",
   "execution_count": 3,
   "metadata": {},
   "outputs": [
    {
     "name": "stdout",
     "output_type": "stream",
     "text": [
      "Conjugate : \n",
      " (1-2j)\n",
      "Conjugate : \n",
      " (1-2j)\n"
     ]
    }
   ],
   "source": [
    "# Get the conjugate\n",
    "print(\"Conjugate : \\n\", np.conj(1+2j))\n",
    "print(\"Conjugate : \\n\", np.conjugate(1+2j))"
   ]
  },
  {
   "cell_type": "code",
   "execution_count": 4,
   "metadata": {},
   "outputs": [
    {
     "name": "stdout",
     "output_type": "stream",
     "text": [
      "Real : \n",
      " 1.0\n",
      "Imagery : \n",
      " -5.0\n"
     ]
    }
   ],
   "source": [
    "# Real and Imagery Components\n",
    "num = 1 - 5j\n",
    "print(\"Real : \\n\", num.real)\n",
    "print(\"Imagery : \\n\", num.imag)"
   ]
  },
  {
   "cell_type": "code",
   "execution_count": 5,
   "metadata": {},
   "outputs": [
    {
     "name": "stdout",
     "output_type": "stream",
     "text": [
      "Zero Matrix : \n",
      " [[0. 0. 0. 0. 0. 0.]\n",
      " [0. 0. 0. 0. 0. 0.]\n",
      " [0. 0. 0. 0. 0. 0.]\n",
      " [0. 0. 0. 0. 0. 0.]\n",
      " [0. 0. 0. 0. 0. 0.]\n",
      " [0. 0. 0. 0. 0. 0.]]\n"
     ]
    }
   ],
   "source": [
    "# Zero Matrix\n",
    "print(\"Zero Matrix : \\n\", np.zeros((6, 6)))"
   ]
  },
  {
   "cell_type": "code",
   "execution_count": 7,
   "metadata": {},
   "outputs": [
    {
     "name": "stdout",
     "output_type": "stream",
     "text": [
      "Exponential Results : \n",
      " [ 2.71828183  7.3890561  20.08553692]\n"
     ]
    }
   ],
   "source": [
    "# Exponential Function: exp(x) = e^x where e= 2.718281(approx)\n",
    "ar=np.array([1,2,3])\n",
    "ar=np.exp(ar)\n",
    "print(\"Exponential Results : \\n\", ar)"
   ]
  },
  {
   "cell_type": "code",
   "execution_count": 8,
   "metadata": {},
   "outputs": [
    {
     "name": "stdout",
     "output_type": "stream",
     "text": [
      "Vertical Stack 1 : \n",
      " [[1 2 3]\n",
      " [2 3 4]]\n",
      "\n"
     ]
    }
   ],
   "source": [
    "# Vertical Stack 1\n",
    "a = np.array([1, 2, 3])\n",
    "b = np.array([2, 3, 4])\n",
    "print(\"Vertical Stack 1 : \\n\", np.vstack((a,b)))\n",
    "\n",
    "print()"
   ]
  },
  {
   "cell_type": "code",
   "execution_count": 9,
   "metadata": {},
   "outputs": [
    {
     "name": "stdout",
     "output_type": "stream",
     "text": [
      "Horizontal Stack 1 : \n",
      " [1 2 3 2 3 4]\n",
      "\n"
     ]
    }
   ],
   "source": [
    "# Horizontal Stack 1\n",
    "a = np.array((1,2,3))\n",
    "b = np.array((2,3,4))\n",
    "print(\"Horizontal Stack 1 : \\n\", np.hstack((a,b)))\n",
    "\n",
    "print()\n"
   ]
  },
  {
   "cell_type": "markdown",
   "metadata": {},
   "source": [
    "# HOMEWORK\n",
    "Stack vertically a 5x5 identity matrix with a 5x5 zero matrix."
   ]
  },
  {
   "cell_type": "code",
   "execution_count": 9,
   "metadata": {},
   "outputs": [
    {
     "data": {
      "text/plain": [
       "array([[1., 0., 0., 0., 0.],\n",
       "       [0., 1., 0., 0., 0.],\n",
       "       [0., 0., 1., 0., 0.],\n",
       "       [0., 0., 0., 1., 0.],\n",
       "       [0., 0., 0., 0., 1.],\n",
       "       [0., 0., 0., 0., 0.],\n",
       "       [0., 0., 0., 0., 0.],\n",
       "       [0., 0., 0., 0., 0.],\n",
       "       [0., 0., 0., 0., 0.],\n",
       "       [0., 0., 0., 0., 0.]])"
      ]
     },
     "execution_count": 9,
     "metadata": {},
     "output_type": "execute_result"
    }
   ],
   "source": [
    "# SOLUTION\n",
    "import numpy as np\n",
    "\n",
    "np.vstack((np.eye(5),np.zeros((5,5))))"
   ]
  },
  {
   "cell_type": "code",
   "execution_count": null,
   "metadata": {},
   "outputs": [],
   "source": []
  },
  {
   "cell_type": "code",
   "execution_count": null,
   "metadata": {},
   "outputs": [],
   "source": []
  },
  {
   "cell_type": "code",
   "execution_count": null,
   "metadata": {},
   "outputs": [],
   "source": []
  }
 ],
 "metadata": {
  "kernelspec": {
   "display_name": "Python 3",
   "language": "python",
   "name": "python3"
  },
  "language_info": {
   "codemirror_mode": {
    "name": "ipython",
    "version": 3
   },
   "file_extension": ".py",
   "mimetype": "text/x-python",
   "name": "python",
   "nbconvert_exporter": "python",
   "pygments_lexer": "ipython3",
   "version": "3.8.7"
  }
 },
 "nbformat": 4,
 "nbformat_minor": 4
}
