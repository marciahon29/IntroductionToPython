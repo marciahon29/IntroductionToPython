{
 "cells": [
  {
   "cell_type": "markdown",
   "metadata": {},
   "source": [
    "# Installing Python and Jupyter\n",
    "     Install python (latest installer, check PATH option) @ https://www.python.org/downloads/windows/\n",
    "        \n",
    "     To install libraries, at command prompt:\n",
    "         pip install tensorflow\n",
    "         pip install keras\n",
    "         pip install jupyterlab\n",
    "         pip install xlrd\n",
    "         pip install pandas\n",
    "         pip install openpyxl\n",
    "         pip install xlwt openpyxl xlsxwriter\n",
    "         pip install scipy\n",
    "         pip install --upgrade ipykernel\n",
    "         \n",
    "     To run jupyter, at command prompt:\n",
    "         jupyter-lab\n",
    "         \n",
    "         "
   ]
  }
 ],
 "metadata": {
  "kernelspec": {
   "display_name": "Python 3",
   "language": "python",
   "name": "python3"
  },
  "language_info": {
   "codemirror_mode": {
    "name": "ipython",
    "version": 3
   },
   "file_extension": ".py",
   "mimetype": "text/x-python",
   "name": "python",
   "nbconvert_exporter": "python",
   "pygments_lexer": "ipython3",
   "version": "3.8.7"
  }
 },
 "nbformat": 4,
 "nbformat_minor": 4
}
