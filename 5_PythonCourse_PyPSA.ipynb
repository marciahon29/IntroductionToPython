{
 "cells": [
  {
   "cell_type": "markdown",
   "metadata": {},
   "source": [
    "# PyPSA - Python for Power Systems Analysis\n",
    "pip install pypsa\n"
   ]
  },
  {
   "cell_type": "markdown",
   "metadata": {},
   "source": [
    "## Minimal 3-node example of PyPSA power flow\n",
    "[Source: https://www.pypsa.org/examples/minimal_example_pf.html ]"
   ]
  },
  {
   "cell_type": "code",
   "execution_count": 6,
   "metadata": {},
   "outputs": [],
   "source": [
    "# make the code as Python 3 compatible as possible\n",
    "import pypsa\n",
    "import numpy as np\n",
    "\n",
    "network = pypsa.Network()"
   ]
  },
  {
   "cell_type": "code",
   "execution_count": 7,
   "metadata": {},
   "outputs": [
    {
     "name": "stdout",
     "output_type": "stream",
     "text": [
      "attribute  v_nom type    x    y carrier  v_mag_pu_set  v_mag_pu_min  \\\n",
      "My bus 0    20.0       0.0  0.0      AC           1.0           0.0   \n",
      "My bus 1    20.0       0.0  0.0      AC           1.0           0.0   \n",
      "My bus 2    20.0       0.0  0.0      AC           1.0           0.0   \n",
      "\n",
      "attribute  v_mag_pu_max control sub_network  \n",
      "My bus 0            inf      PQ              \n",
      "My bus 1            inf      PQ              \n",
      "My bus 2            inf      PQ              \n"
     ]
    }
   ],
   "source": [
    "#add three buses\n",
    "n_buses = 3\n",
    "\n",
    "for i in range(n_buses):\n",
    "    network.add(\"Bus\",\"My bus {}\".format(i),\n",
    "                v_nom=20.) # Nominal voltage\n",
    "\n",
    "print(network.buses)\n"
   ]
  },
  {
   "cell_type": "code",
   "execution_count": 8,
   "metadata": {},
   "outputs": [
    {
     "name": "stdout",
     "output_type": "stream",
     "text": [
      "attribute      bus0      bus1 type    x     r    g    b  s_nom  \\\n",
      "My line 0  My bus 0  My bus 1       0.1  0.01  0.0  0.0    0.0   \n",
      "My line 1  My bus 1  My bus 2       0.1  0.01  0.0  0.0    0.0   \n",
      "My line 2  My bus 2  My bus 0       0.1  0.01  0.0  0.0    0.0   \n",
      "\n",
      "attribute  s_nom_extendable  s_nom_min  ...  v_ang_min  v_ang_max  \\\n",
      "My line 0             False        0.0  ...       -inf        inf   \n",
      "My line 1             False        0.0  ...       -inf        inf   \n",
      "My line 2             False        0.0  ...       -inf        inf   \n",
      "\n",
      "attribute  sub_network  x_pu  r_pu  g_pu  b_pu  x_pu_eff r_pu_eff  s_nom_opt  \n",
      "My line 0                0.0   0.0   0.0   0.0       0.0      0.0        0.0  \n",
      "My line 1                0.0   0.0   0.0   0.0       0.0      0.0        0.0  \n",
      "My line 2                0.0   0.0   0.0   0.0       0.0      0.0        0.0  \n",
      "\n",
      "[3 rows x 26 columns]\n"
     ]
    }
   ],
   "source": [
    "#add three lines in a ring\n",
    "for i in range(n_buses):\n",
    "    network.add(\"Line\",\"My line {}\".format(i),\n",
    "                bus0=\"My bus {}\".format(i),\n",
    "                bus1=\"My bus {}\".format((i+1)%n_buses),\n",
    "                x=0.1, # Series reactance\n",
    "                r=0.01) # Series resistance\n",
    "print(network.lines)\n"
   ]
  },
  {
   "cell_type": "code",
   "execution_count": 9,
   "metadata": {},
   "outputs": [
    {
     "name": "stdout",
     "output_type": "stream",
     "text": [
      "attribute       bus control type  p_nom  p_nom_extendable  p_nom_min  \\\n",
      "My gen     My bus 0      PQ         0.0             False        0.0   \n",
      "\n",
      "attribute  p_nom_max  p_min_pu  p_max_pu  p_set  ...  shut_down_cost  \\\n",
      "My gen           inf       0.0       1.0  100.0  ...             0.0   \n",
      "\n",
      "attribute  min_up_time min_down_time  up_time_before  down_time_before  \\\n",
      "My gen               0             0               1                 0   \n",
      "\n",
      "attribute  ramp_limit_up  ramp_limit_down  ramp_limit_start_up  \\\n",
      "My gen               NaN              NaN                  1.0   \n",
      "\n",
      "attribute  ramp_limit_shut_down  p_nom_opt  \n",
      "My gen                      1.0        0.0  \n",
      "\n",
      "[1 rows x 28 columns]\n",
      "\n",
      "My gen    100.0\n",
      "Name: p_set, dtype: float64\n"
     ]
    }
   ],
   "source": [
    "\n",
    "#add a generator at bus 0\n",
    "network.add(\"Generator\",\"My gen\",\n",
    "            bus=\"My bus 0\",\n",
    "            p_set=100, # Active Power Set Point\n",
    "            control=\"PQ\") # P,Q,V control strategy for PF, must be “PQ”, “PV” or “Slack”.\n",
    "print(network.generators)\n",
    "print()\n",
    "print(network.generators.p_set)\n",
    "\n"
   ]
  },
  {
   "cell_type": "code",
   "execution_count": 10,
   "metadata": {},
   "outputs": [
    {
     "name": "stdout",
     "output_type": "stream",
     "text": [
      "attribute       bus type  p_set  q_set  sign\n",
      "My load    My bus 1       100.0    0.0  -1.0\n",
      "\n",
      "My load    100.0\n",
      "Name: p_set, dtype: float64\n",
      "\n",
      "My load    100.0\n",
      "Name: q_set, dtype: float64\n"
     ]
    }
   ],
   "source": [
    "#add a load at bus 1\n",
    "network.add(\"Load\",\"My load\",\n",
    "            bus=\"My bus 1\",\n",
    "            p_set=100) # Active power consumption\n",
    "print(network.loads)\n",
    "print()\n",
    "print(network.loads.p_set)\n",
    "\n",
    "network.loads.q_set = 100. # Reactive power consumption\n",
    "print()\n",
    "print(network.loads.q_set)"
   ]
  },
  {
   "cell_type": "markdown",
   "metadata": {},
   "source": [
    "# Newton-Raphson Power Flow\n",
    "In the Newton-Raphson power flow we use Newton's. method to determine the voltage magnitude and angle at. each bus in the power system that satisfies power balance.\n",
    "\n",
    "The objective of a power flow study is to calculate the voltages (magnitude and angle) for a given load, generation, and network condition. Once voltages are known for all buses, line flows and losses can be calculated."
   ]
  },
  {
   "cell_type": "code",
   "execution_count": 11,
   "metadata": {},
   "outputs": [
    {
     "name": "stderr",
     "output_type": "stream",
     "text": [
      "INFO:pypsa.pf:Performing non-linear load-flow on AC sub-network SubNetwork 0 for snapshots Index(['now'], dtype='object')\n",
      "INFO:pypsa.pf:Newton-Raphson solved in 3 iterations with error of 0.000000 in 0.026992 seconds\n"
     ]
    },
    {
     "name": "stdout",
     "output_type": "stream",
     "text": [
      "Voltage for lines:\n",
      "     My line 0  My line 1  My line 2\n",
      "now  66.897487 -33.333333 -33.391038\n",
      "\n",
      "Voltage Angles for buses:\n",
      "     My bus 0  My bus 1  My bus 2\n",
      "now       0.0 -0.875939 -0.433813\n",
      "\n",
      "Voltage Magnitudes for buses:\n",
      "     My bus 0  My bus 1  My bus 2\n",
      "now       1.0  0.981199   0.99057\n"
     ]
    }
   ],
   "source": [
    "#Do a Newton-Raphson power flow\n",
    "network.pf()\n",
    "print(\"Voltage for lines:\")\n",
    "print(network.lines_t.p0) # Active Power at Bus 0\n",
    "print()\n",
    "print(\"Voltage Angles for buses:\")\n",
    "print(network.buses_t.v_ang*180/np.pi)\n",
    "print()\n",
    "print(\"Voltage Magnitudes for buses:\")\n",
    "print(network.buses_t.v_mag_pu)"
   ]
  },
  {
   "cell_type": "code",
   "execution_count": null,
   "metadata": {},
   "outputs": [],
   "source": []
  },
  {
   "cell_type": "code",
   "execution_count": null,
   "metadata": {},
   "outputs": [],
   "source": []
  },
  {
   "cell_type": "code",
   "execution_count": null,
   "metadata": {},
   "outputs": [],
   "source": []
  },
  {
   "cell_type": "code",
   "execution_count": null,
   "metadata": {},
   "outputs": [],
   "source": []
  }
 ],
 "metadata": {
  "kernelspec": {
   "display_name": "Python 3",
   "language": "python",
   "name": "python3"
  },
  "language_info": {
   "codemirror_mode": {
    "name": "ipython",
    "version": 3
   },
   "file_extension": ".py",
   "mimetype": "text/x-python",
   "name": "python",
   "nbconvert_exporter": "python",
   "pygments_lexer": "ipython3",
   "version": "3.8.7"
  }
 },
 "nbformat": 4,
 "nbformat_minor": 4
}
