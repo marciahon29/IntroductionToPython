{
 "cells": [
  {
   "cell_type": "markdown",
   "metadata": {},
   "source": [
    "# Matrix Manipulations\n",
    "In this section, we will cover Matrix Manipulations.\n",
    "First, we will cover the very basics.\n",
    "Following, we will cover: sparse matrix creation, sparse multiplication, LU decomposition and inverse.\n",
    "    \n",
    "To proceed, please import the sparse matrix library: pip install scipy"
   ]
  },
  {
   "cell_type": "markdown",
   "metadata": {},
   "source": [
    "# Basic Matrix Manipulations\n",
    " [Source: https://www.tutorialspoint.com/matrix-manipulation-in-python]"
   ]
  },
  {
   "cell_type": "code",
   "execution_count": 1,
   "metadata": {},
   "outputs": [],
   "source": [
    "import numpy\n",
    "# Two matrices are initialized by value\n",
    "x = numpy.array([[1, 2], [4, 5]])\n",
    "y = numpy.array([[7, 8], [9, 10]])"
   ]
  },
  {
   "cell_type": "code",
   "execution_count": 2,
   "metadata": {},
   "outputs": [
    {
     "name": "stdout",
     "output_type": "stream",
     "text": [
      "Addition of two matrices: \n",
      "[[ 8 10]\n",
      " [13 15]]\n"
     ]
    },
    {
     "data": {
      "text/plain": [
       "array([[ 8, 10],\n",
       "       [13, 15]])"
      ]
     },
     "execution_count": 2,
     "metadata": {},
     "output_type": "execute_result"
    }
   ],
   "source": [
    "#  add()is used to add matrices\n",
    "print (\"Addition of two matrices: \")\n",
    "print (numpy.add(x,y))\n",
    "x + y"
   ]
  },
  {
   "cell_type": "code",
   "execution_count": 3,
   "metadata": {},
   "outputs": [],
   "source": [
    "# divide()is used to divide matrices\n",
    "# For matrices, there is no such thing as division. You can add, subtract, and multiply matrices, but you cannot divide them."
   ]
  },
  {
   "cell_type": "code",
   "execution_count": 4,
   "metadata": {},
   "outputs": [
    {
     "name": "stdout",
     "output_type": "stream",
     "text": [
      "Multiplication of two matrices: \n",
      "[[ 7 16]\n",
      " [36 50]]\n"
     ]
    },
    {
     "data": {
      "text/plain": [
       "array([[ 7, 16],\n",
       "       [36, 50]])"
      ]
     },
     "execution_count": 4,
     "metadata": {},
     "output_type": "execute_result"
    }
   ],
   "source": [
    "print (\"Multiplication of two matrices: \") # DOT Product\n",
    "print (numpy.multiply(x,y))\n",
    "x * y"
   ]
  },
  {
   "cell_type": "code",
   "execution_count": 5,
   "metadata": {},
   "outputs": [
    {
     "name": "stdout",
     "output_type": "stream",
     "text": [
      "The product of two matrices : \n",
      "[[25 28]\n",
      " [73 82]]\n"
     ]
    },
    {
     "data": {
      "text/plain": [
       "array([[25, 28],\n",
       "       [73, 82]])"
      ]
     },
     "execution_count": 5,
     "metadata": {},
     "output_type": "execute_result"
    }
   ],
   "source": [
    "print (\"The product of two matrices : \") # Regular multiplicaton\n",
    "print (numpy.dot(x,y))\n",
    "x @ y"
   ]
  },
  {
   "cell_type": "code",
   "execution_count": 6,
   "metadata": {},
   "outputs": [
    {
     "name": "stdout",
     "output_type": "stream",
     "text": [
      "square root is : \n",
      "[[1.         1.41421356]\n",
      " [2.         2.23606798]]\n"
     ]
    }
   ],
   "source": [
    "print (\"square root is : \")\n",
    "print (numpy.sqrt(x))"
   ]
  },
  {
   "cell_type": "code",
   "execution_count": 7,
   "metadata": {},
   "outputs": [
    {
     "name": "stdout",
     "output_type": "stream",
     "text": [
      "The summation of elements : \n",
      "34\n"
     ]
    }
   ],
   "source": [
    "print (\"The summation of elements : \")\n",
    "print (numpy.sum(y))"
   ]
  },
  {
   "cell_type": "code",
   "execution_count": 9,
   "metadata": {},
   "outputs": [
    {
     "name": "stdout",
     "output_type": "stream",
     "text": [
      "The column wise summation  : \n",
      "[16 18]\n"
     ]
    }
   ],
   "source": [
    "print (\"The column wise summation  : \")\n",
    "print (numpy.sum(y,axis=0))"
   ]
  },
  {
   "cell_type": "code",
   "execution_count": 10,
   "metadata": {},
   "outputs": [
    {
     "name": "stdout",
     "output_type": "stream",
     "text": [
      "The row wise summation: \n",
      "[15 19]\n"
     ]
    }
   ],
   "source": [
    "print (\"The row wise summation: \")\n",
    "print (numpy.sum(y,axis=1))"
   ]
  },
  {
   "cell_type": "code",
   "execution_count": 11,
   "metadata": {},
   "outputs": [
    {
     "name": "stdout",
     "output_type": "stream",
     "text": [
      "Matrix transposition : \n",
      "[[1 4]\n",
      " [2 5]]\n"
     ]
    }
   ],
   "source": [
    "# using \"T\" to transpose the matrix\n",
    "print (\"Matrix transposition : \")\n",
    "print (x.T)"
   ]
  },
  {
   "cell_type": "markdown",
   "metadata": {},
   "source": [
    "# Sparse Matrices\n",
    "Sparse Matrices are matrices that contain lots of empty cells. It is important to classify matrices as sparse matrices because, by doing so, you can minimize using lots of memory.\n",
    "\n",
    "Many linear algebra NumPy and SciPy functions that operate on NumPy arrays can transparently operate on SciPy sparse arrays."
   ]
  },
  {
   "cell_type": "markdown",
   "metadata": {},
   "source": [
    "## Sparse Matrix Creation\n",
    "[Source: https://www.educative.io/edpresso/sparse-matrices-in-python ]"
   ]
  },
  {
   "cell_type": "code",
   "execution_count": 8,
   "metadata": {},
   "outputs": [],
   "source": [
    "# Import the libraries\n",
    "import numpy as np\n",
    "from scipy.sparse import csr_matrix"
   ]
  },
  {
   "cell_type": "code",
   "execution_count": 9,
   "metadata": {},
   "outputs": [
    {
     "name": "stdout",
     "output_type": "stream",
     "text": [
      "Dense matrix representation: \n",
      " [[1 0 0 0 0 0]\n",
      " [0 0 2 0 0 1]\n",
      " [0 0 0 2 0 0]]\n"
     ]
    }
   ],
   "source": [
    "# create a 2-D representation of the matrix\n",
    "A = np.array([[1, 0, 0, 0, 0, 0], [0, 0, 2, 0, 0, 1],\n",
    " [0, 0, 0, 2, 0, 0]])\n",
    "print(\"Dense matrix representation: \\n\", A)"
   ]
  },
  {
   "cell_type": "code",
   "execution_count": 10,
   "metadata": {},
   "outputs": [
    {
     "data": {
      "text/plain": [
       "array([[ 0,  0,  0],\n",
       "       [ 0,  5, 12],\n",
       "       [ 0,  8,  0]])"
      ]
     },
     "execution_count": 10,
     "metadata": {},
     "output_type": "execute_result"
    }
   ],
   "source": [
    "# Simple Matrix Multiplication\n",
    "m = np.array([[1,0, 0],[0,5,6],[0,8,0]])\n",
    "c = np.array([0,1,2])\n",
    "m * c"
   ]
  },
  {
   "cell_type": "code",
   "execution_count": 11,
   "metadata": {},
   "outputs": [
    {
     "name": "stdout",
     "output_type": "stream",
     "text": [
      "  (1, 2)\t12\n",
      "  (1, 1)\t5\n",
      "  (2, 1)\t8\n"
     ]
    }
   ],
   "source": [
    "# Sparse Matrix Multiplication\n",
    "T = csr_matrix(m).multiply(csr_matrix(c))\n",
    "print(T)"
   ]
  },
  {
   "cell_type": "code",
   "execution_count": 12,
   "metadata": {},
   "outputs": [
    {
     "data": {
      "text/plain": [
       "matrix([[ 0,  0,  0],\n",
       "        [ 0,  5, 12],\n",
       "        [ 0,  8,  0]], dtype=int32)"
      ]
     },
     "execution_count": 12,
     "metadata": {},
     "output_type": "execute_result"
    }
   ],
   "source": [
    "T.todense()"
   ]
  },
  {
   "cell_type": "markdown",
   "metadata": {},
   "source": [
    "# Other Sparse Matrix Operations\n",
    "[Source: https://www.w3schools.com/python/scipy_sparse_data.asp ]"
   ]
  },
  {
   "cell_type": "code",
   "execution_count": 13,
   "metadata": {},
   "outputs": [
    {
     "name": "stdout",
     "output_type": "stream",
     "text": [
      "Non-zeros: [1 5 6 8]\n",
      "Number of non-zeros: 4\n"
     ]
    }
   ],
   "source": [
    "# Nonzeros\n",
    "# m = [[1,0, 0],[0,5,6],[0,8,0]]\n",
    "print(\"Non-zeros:\", csr_matrix(m).data)\n",
    "# Number of zeros\n",
    "print(\"Number of non-zeros:\", csr_matrix(m).count_nonzero())"
   ]
  },
  {
   "cell_type": "code",
   "execution_count": 14,
   "metadata": {},
   "outputs": [
    {
     "data": {
      "text/plain": [
       "matrix([[ 2,  0,  0],\n",
       "        [ 0, 10, 12],\n",
       "        [ 0, 16,  0]])"
      ]
     },
     "execution_count": 14,
     "metadata": {},
     "output_type": "execute_result"
    }
   ],
   "source": [
    "# You can do operations between sparse and dense. But I do not recommend it.\n",
    "m + csr_matrix(m)"
   ]
  },
  {
   "cell_type": "markdown",
   "metadata": {},
   "source": [
    "# LU Decomposition\n",
    "In numerical analysis and linear algebra, lower–upper (LU) decomposition or factorization factors a matrix as the product of a lower triangular matrix and an upper triangular matrix. The product sometimes includes a permutation matrix as well. LU decomposition can be viewed as the matrix form of Gaussian elimination. Computers usually solve square systems of linear equations using LU decomposition, and it is also a key step when inverting a matrix or computing the determinant of a matrix. The LU decomposition was introduced by the Polish mathematician Tadeusz Banachiewicz in 1938\n",
    "[Sources: https://en.wikipedia.org/wiki/LU_decomposition , https://pythonhosted.org/ad/linalg.html ]"
   ]
  },
  {
   "cell_type": "code",
   "execution_count": 15,
   "metadata": {},
   "outputs": [],
   "source": [
    "# Example 1\n",
    "import numpy as np\n",
    "import scipy.linalg as la\n",
    "\n",
    "A = [[1, 3, 5],\n",
    "      [2, 4, 7],\n",
    "      [1, 1, 0]]\n",
    "\n",
    "P, L, U = la.lu(A) # Order of P, L, U is important! P= Permutation, L= Lower, U= Upper"
   ]
  },
  {
   "cell_type": "code",
   "execution_count": 16,
   "metadata": {},
   "outputs": [
    {
     "data": {
      "text/plain": [
       "array([[ 1. ,  0. ,  0. ],\n",
       "       [ 0.5,  1. ,  0. ],\n",
       "       [ 0.5, -1. ,  1. ]])"
      ]
     },
     "execution_count": 16,
     "metadata": {},
     "output_type": "execute_result"
    }
   ],
   "source": [
    "L"
   ]
  },
  {
   "cell_type": "code",
   "execution_count": 17,
   "metadata": {},
   "outputs": [
    {
     "data": {
      "text/plain": [
       "array([[ 2. ,  4. ,  7. ],\n",
       "       [ 0. ,  1. ,  1.5],\n",
       "       [ 0. ,  0. , -2. ]])"
      ]
     },
     "execution_count": 17,
     "metadata": {},
     "output_type": "execute_result"
    }
   ],
   "source": [
    "U"
   ]
  },
  {
   "cell_type": "code",
   "execution_count": 18,
   "metadata": {},
   "outputs": [
    {
     "data": {
      "text/plain": [
       "array([[0., 1., 0.],\n",
       "       [1., 0., 0.],\n",
       "       [0., 0., 1.]])"
      ]
     },
     "execution_count": 18,
     "metadata": {},
     "output_type": "execute_result"
    }
   ],
   "source": [
    "P"
   ]
  },
  {
   "cell_type": "code",
   "execution_count": 19,
   "metadata": {},
   "outputs": [],
   "source": [
    "# Example 2\n",
    "A = [[11,  9, 24, 2],\n",
    "      [ 1,  5,  2, 6],\n",
    "      [ 3, 17, 18, 1],\n",
    "      [ 2,  5,  7, 1]]\n",
    "\n",
    "P, L, U = la.lu(A)"
   ]
  },
  {
   "cell_type": "code",
   "execution_count": 20,
   "metadata": {},
   "outputs": [
    {
     "data": {
      "text/plain": [
       "array([[1., 0., 0., 0.],\n",
       "       [0., 0., 1., 0.],\n",
       "       [0., 1., 0., 0.],\n",
       "       [0., 0., 0., 1.]])"
      ]
     },
     "execution_count": 20,
     "metadata": {},
     "output_type": "execute_result"
    }
   ],
   "source": [
    "P"
   ]
  },
  {
   "cell_type": "code",
   "execution_count": 21,
   "metadata": {},
   "outputs": [
    {
     "data": {
      "text/plain": [
       "array([[1.        , 0.        , 0.        , 0.        ],\n",
       "       [0.27272727, 1.        , 0.        , 0.        ],\n",
       "       [0.09090909, 0.2875    , 1.        , 0.        ],\n",
       "       [0.18181818, 0.23125   , 0.00359712, 1.        ]])"
      ]
     },
     "execution_count": 21,
     "metadata": {},
     "output_type": "execute_result"
    }
   ],
   "source": [
    "L"
   ]
  },
  {
   "cell_type": "code",
   "execution_count": 22,
   "metadata": {},
   "outputs": [
    {
     "data": {
      "text/plain": [
       "array([[11.        ,  9.        , 24.        ,  2.        ],\n",
       "       [ 0.        , 14.54545455, 11.45454545,  0.45454545],\n",
       "       [ 0.        ,  0.        , -3.475     ,  5.6875    ],\n",
       "       [ 0.        ,  0.        ,  0.        ,  0.51079137]])"
      ]
     },
     "execution_count": 22,
     "metadata": {},
     "output_type": "execute_result"
    }
   ],
   "source": [
    "U"
   ]
  },
  {
   "cell_type": "markdown",
   "metadata": {},
   "source": [
    "# Inverse Matrix"
   ]
  },
  {
   "cell_type": "code",
   "execution_count": 23,
   "metadata": {},
   "outputs": [
    {
     "data": {
      "text/plain": [
       "array([[1, 3, 3],\n",
       "       [1, 4, 3],\n",
       "       [1, 3, 4]])"
      ]
     },
     "execution_count": 23,
     "metadata": {},
     "output_type": "execute_result"
    }
   ],
   "source": [
    "import numpy as np\n",
    "A = np.array(([1,3,3],[1,4,3],[1,3,4]))\n",
    "A"
   ]
  },
  {
   "cell_type": "code",
   "execution_count": 24,
   "metadata": {},
   "outputs": [
    {
     "data": {
      "text/plain": [
       "array([[ 7., -3., -3.],\n",
       "       [-1.,  1.,  0.],\n",
       "       [-1.,  0.,  1.]])"
      ]
     },
     "execution_count": 24,
     "metadata": {},
     "output_type": "execute_result"
    }
   ],
   "source": [
    "A_inv = np.linalg.inv(A)\n",
    "A_inv"
   ]
  },
  {
   "cell_type": "code",
   "execution_count": 25,
   "metadata": {},
   "outputs": [
    {
     "data": {
      "text/plain": [
       "array([[1., 0., 0.],\n",
       "       [0., 1., 0.],\n",
       "       [0., 0., 1.]])"
      ]
     },
     "execution_count": 25,
     "metadata": {},
     "output_type": "execute_result"
    }
   ],
   "source": [
    "# To check inverse is correct\n",
    "A_inv.dot(A)"
   ]
  },
  {
   "cell_type": "markdown",
   "metadata": {},
   "source": [
    "# QUIZ\n",
    "\n",
    "First find the LU Decomposition of\n",
    "\n",
    "A = [[1, 3, 1],\n",
    "      [4, 9, 2],\n",
    "      [6, 2, 9]]\n",
    "\n",
    "Then find the Inverse Matrix of the Lower matrix\n",
    "\n",
    "Then confirm that this inverse is correct."
   ]
  },
  {
   "cell_type": "code",
   "execution_count": 26,
   "metadata": {},
   "outputs": [
    {
     "data": {
      "text/plain": [
       "array([[1.        , 0.        , 0.        ],\n",
       "       [0.66666667, 1.        , 0.        ],\n",
       "       [0.16666667, 0.34782609, 1.        ]])"
      ]
     },
     "execution_count": 26,
     "metadata": {},
     "output_type": "execute_result"
    }
   ],
   "source": [
    "# SOLUTION\n",
    "import numpy as np\n",
    "import scipy.linalg as la\n",
    "\n",
    "A = [[1, 3, 1],\n",
    "      [4, 9, 2],\n",
    "      [6, 2, 9]]\n",
    "\n",
    "P, L, U = la.lu(A) # Order of P, L, U is important! P= Permutation, L= Lower, U= Upper\n",
    "\n",
    "L"
   ]
  },
  {
   "cell_type": "code",
   "execution_count": 27,
   "metadata": {},
   "outputs": [
    {
     "data": {
      "text/plain": [
       "array([[ 1.        ,  0.        ,  0.        ],\n",
       "       [-0.66666667,  1.        ,  0.        ],\n",
       "       [ 0.06521739, -0.34782609,  1.        ]])"
      ]
     },
     "execution_count": 27,
     "metadata": {},
     "output_type": "execute_result"
    }
   ],
   "source": [
    "L_inv = np.linalg.inv(L)\n",
    "L_inv"
   ]
  },
  {
   "cell_type": "code",
   "execution_count": 28,
   "metadata": {},
   "outputs": [
    {
     "data": {
      "text/plain": [
       "array([[1., 0., 0.],\n",
       "       [0., 1., 0.],\n",
       "       [0., 0., 1.]])"
      ]
     },
     "execution_count": 28,
     "metadata": {},
     "output_type": "execute_result"
    }
   ],
   "source": [
    "L_inv.dot(L)"
   ]
  },
  {
   "cell_type": "code",
   "execution_count": null,
   "metadata": {},
   "outputs": [],
   "source": []
  },
  {
   "cell_type": "code",
   "execution_count": null,
   "metadata": {},
   "outputs": [],
   "source": []
  }
 ],
 "metadata": {
  "kernelspec": {
   "display_name": "Python 3",
   "language": "python",
   "name": "python3"
  },
  "language_info": {
   "codemirror_mode": {
    "name": "ipython",
    "version": 3
   },
   "file_extension": ".py",
   "mimetype": "text/x-python",
   "name": "python",
   "nbconvert_exporter": "python",
   "pygments_lexer": "ipython3",
   "version": "3.8.7"
  }
 },
 "nbformat": 4,
 "nbformat_minor": 4
}
