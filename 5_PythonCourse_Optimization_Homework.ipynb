{
 "cells": [
  {
   "cell_type": "markdown",
   "metadata": {},
   "source": [
    "# OPTIMIZATION HOMEWORK\n",
    "\n",
    "[Source: https://www.superprof.co.uk/resources/academic/maths/linear-algebra/linear-programming/linear-programming-examples.html ]\n",
    "\n",
    "1. Objective Function:\n",
    "    \n",
    "    P = 25x + 15y\n",
    "    \n",
    "2. Decision Variables:\n",
    "\n",
    "    x = number of paintings\n",
    "\n",
    "    y = number of cards\n",
    "\n",
    "3. Constraints:\n",
    "\n",
    "    2x + 0.75y $\\leq$ 15\n",
    "    \n",
    "    x + y $\\leq$ 10\n",
    "    \n",
    "    x $\\geq$ 0 and y $\\geq$ 0\n",
    "    \n",
    "Your task is to use any Optimization program."
   ]
  },
  {
   "cell_type": "markdown",
   "metadata": {},
   "source": [
    "# SOLUTION\n",
    "Step 7 - Find the optimum point\n",
    "\n",
    "Use the coordinates of the vertices and substitute them in the objective function to yield the maximum point.\n",
    "\n",
    "\n",
    "(7, 0)P = 25(7) + 15(0) = 175\n",
    "\n",
    "(6, 4)P = 25(6) + 15(4) = 210       (Maximum) \n",
    "\n",
    "(0,11)P = 25(0) + 15 (11) = 155\n",
    "\n",
    "\n",
    "The above calculations show that Maria can make the maximum profit of $210 a week by making 6 paintings and 4 cards."
   ]
  },
  {
   "cell_type": "code",
   "execution_count": 6,
   "metadata": {},
   "outputs": [
    {
     "data": {
      "text/plain": [
       "     con: array([], dtype=float64)\n",
       "     fun: -210.0\n",
       " message: 'Optimization terminated successfully.'\n",
       "     nit: 2\n",
       "   slack: array([0., 0.])\n",
       "  status: 0\n",
       " success: True\n",
       "       x: array([6., 4.])"
      ]
     },
     "execution_count": 6,
     "metadata": {},
     "output_type": "execute_result"
    }
   ],
   "source": [
    "# To use scipy.optimize, we need to change the optimization to Minimize\n",
    "\n",
    "# Objective Function becomes: -P = -25 -15y\n",
    "# Additoinally, all constriants must be <= . x and y can be >= 0\n",
    "\n",
    "from scipy.optimize import linprog\n",
    "\n",
    "# Edit all the parameters\n",
    "obj = [-25, -15]\n",
    "\n",
    "lhs_ineq = [[ 2,  0.75],\n",
    "            [1,  1]]\n",
    "\n",
    "rhs_ineq = [15,  \n",
    "            10]  \n",
    "\n",
    "bnd = [(0, float(\"inf\")),\n",
    "       (0, float(\"inf\"))]\n",
    "\n",
    "# Call the optimizer\n",
    "opt = linprog(c=obj, A_ub=lhs_ineq, b_ub=rhs_ineq,\n",
    "               bounds=bnd,\n",
    "               method=\"revised simplex\")\n",
    "opt\n"
   ]
  },
  {
   "cell_type": "code",
   "execution_count": null,
   "metadata": {},
   "outputs": [],
   "source": []
  }
 ],
 "metadata": {
  "kernelspec": {
   "display_name": "Python 3",
   "language": "python",
   "name": "python3"
  },
  "language_info": {
   "codemirror_mode": {
    "name": "ipython",
    "version": 3
   },
   "file_extension": ".py",
   "mimetype": "text/x-python",
   "name": "python",
   "nbconvert_exporter": "python",
   "pygments_lexer": "ipython3",
   "version": "3.8.7"
  }
 },
 "nbformat": 4,
 "nbformat_minor": 4
}
