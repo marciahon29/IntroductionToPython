{
 "cells": [
  {
   "cell_type": "markdown",
   "metadata": {},
   "source": [
    "# Nested Dictionary\n",
    "[Source: https://www.programiz.com/python-programming/nested-dictionary ]"
   ]
  },
  {
   "cell_type": "markdown",
   "metadata": {},
   "source": [
    "## nested_dictionary = {'key_1': 'value_1', 'key_2': 'value_2'}"
   ]
  },
  {
   "cell_type": "code",
   "execution_count": 1,
   "metadata": {},
   "outputs": [
    {
     "name": "stdout",
     "output_type": "stream",
     "text": [
      "{1: {'name': 'John', 'age': '27', 'sex': 'Male'}, 2: {'name': 'Marie', 'age': '22', 'sex': 'Female'}}\n"
     ]
    }
   ],
   "source": [
    "# Create a dictionary\n",
    "people = {1: {'name': 'John', 'age': '27', 'sex': 'Male'},\n",
    "          2: {'name': 'Marie', 'age': '22', 'sex': 'Female'}}\n",
    "\n",
    "print(people)"
   ]
  },
  {
   "cell_type": "code",
   "execution_count": 2,
   "metadata": {},
   "outputs": [
    {
     "name": "stdout",
     "output_type": "stream",
     "text": [
      "John\n",
      "27\n",
      "Male\n"
     ]
    }
   ],
   "source": [
    "# Accessing Elements\n",
    "people = {1: {'name': 'John', 'age': '27', 'sex': 'Male'},\n",
    "          2: {'name': 'Marie', 'age': '22', 'sex': 'Female'}}\n",
    "\n",
    "print(people[1]['name'])\n",
    "print(people[1]['age'])\n",
    "print(people[1]['sex'])"
   ]
  },
  {
   "cell_type": "code",
   "execution_count": 3,
   "metadata": {},
   "outputs": [
    {
     "name": "stdout",
     "output_type": "stream",
     "text": [
      "{'name': 'Luna', 'age': '24', 'sex': 'Female', 'married': 'No'}\n"
     ]
    }
   ],
   "source": [
    "# Adding an Element\n",
    "people = {1: {'name': 'John', 'age': '27', 'sex': 'Male'},\n",
    "          2: {'name': 'Marie', 'age': '22', 'sex': 'Female'}}\n",
    "\n",
    "people[3] = {}\n",
    "\n",
    "people[3]['name'] = 'Luna'\n",
    "people[3]['age'] = '24'\n",
    "people[3]['sex'] = 'Female'\n",
    "people[3]['married'] = 'No'\n",
    "\n",
    "print(people[3])"
   ]
  },
  {
   "cell_type": "code",
   "execution_count": 4,
   "metadata": {},
   "outputs": [
    {
     "name": "stdout",
     "output_type": "stream",
     "text": [
      "{'name': 'Peter', 'age': '29', 'sex': 'Male', 'married': 'Yes'}\n"
     ]
    }
   ],
   "source": [
    "# Another example to add an Element\n",
    "people = {1: {'name': 'John', 'age': '27', 'sex': 'Male'},\n",
    "          2: {'name': 'Marie', 'age': '22', 'sex': 'Female'},\n",
    "          3: {'name': 'Luna', 'age': '24', 'sex': 'Female', 'married': 'No'}}\n",
    "\n",
    "people[4] = {'name': 'Peter', 'age': '29', 'sex': 'Male', 'married': 'Yes'}\n",
    "print(people[4])"
   ]
  },
  {
   "cell_type": "code",
   "execution_count": 5,
   "metadata": {},
   "outputs": [
    {
     "name": "stdout",
     "output_type": "stream",
     "text": [
      "{'name': 'Luna', 'age': '24', 'sex': 'Female'}\n",
      "{'name': 'Peter', 'age': '29', 'sex': 'Male'}\n"
     ]
    }
   ],
   "source": [
    "# Deleting elements\n",
    "people = {1: {'name': 'John', 'age': '27', 'sex': 'Male'},\n",
    "          2: {'name': 'Marie', 'age': '22', 'sex': 'Female'},\n",
    "          3: {'name': 'Luna', 'age': '24', 'sex': 'Female', 'married': 'No'},\n",
    "          4: {'name': 'Peter', 'age': '29', 'sex': 'Male', 'married': 'Yes'}}\n",
    "\n",
    "del people[3]['married']\n",
    "del people[4]['married']\n",
    "\n",
    "print(people[3])\n",
    "print(people[4])"
   ]
  },
  {
   "cell_type": "code",
   "execution_count": 6,
   "metadata": {},
   "outputs": [
    {
     "name": "stdout",
     "output_type": "stream",
     "text": [
      "{1: {'name': 'John', 'age': '27', 'sex': 'Male'}, 2: {'name': 'Marie', 'age': '22', 'sex': 'Female'}}\n"
     ]
    }
   ],
   "source": [
    "# Delete dictionary from nested dictionary\n",
    "people = {1: {'name': 'John', 'age': '27', 'sex': 'Male'},\n",
    "          2: {'name': 'Marie', 'age': '22', 'sex': 'Female'},\n",
    "          3: {'name': 'Luna', 'age': '24', 'sex': 'Female'},\n",
    "          4: {'name': 'Peter', 'age': '29', 'sex': 'Male'}}\n",
    "\n",
    "del people[3], people[4]\n",
    "print(people)"
   ]
  },
  {
   "cell_type": "code",
   "execution_count": 7,
   "metadata": {},
   "outputs": [
    {
     "name": "stdout",
     "output_type": "stream",
     "text": [
      "\n",
      "Person ID: 1\n",
      "Name: John\n",
      "Age: 27\n",
      "Sex: Male\n",
      "\n",
      "Person ID: 2\n",
      "Name: Marie\n",
      "Age: 22\n",
      "Sex: Female\n"
     ]
    }
   ],
   "source": [
    "# Iterate through nested dictionary\n",
    "people = {1: {'Name': 'John', 'Age': '27', 'Sex': 'Male'},\n",
    "          2: {'Name': 'Marie', 'Age': '22', 'Sex': 'Female'}}\n",
    "\n",
    "# For loop, iterates through each record of dictionary\n",
    "for p_id, p_info in people.items():\n",
    "    print(\"\\nPerson ID:\", p_id)\n",
    "    \n",
    "    for key in p_info:\n",
    "        print(key + ':', p_info[key])"
   ]
  },
  {
   "cell_type": "code",
   "execution_count": 9,
   "metadata": {},
   "outputs": [
    {
     "name": "stdout",
     "output_type": "stream",
     "text": [
      "{'a': {'name': 'John', 'age': '27', 'sex': 'Male'}, 'b': {'name': 'Marie', 'age': '22', 'sex': 'Female'}}\n",
      "{'a': {'name': 'John', 'age': '27', 'sex': 'Male'}, 'b': {'name': 'Marie', 'age': '22', 'sex': 'Female'}, 'c': {'name': 'Peter', 'age': '29', 'sex': 'Male', 'married': 'Yes'}}\n"
     ]
    }
   ],
   "source": [
    "# Create a dictionary with non-integer idex\n",
    "people = {'a': {'name': 'John', 'age': '27', 'sex': 'Male'},\n",
    "          'b': {'name': 'Marie', 'age': '22', 'sex': 'Female'}}\n",
    "\n",
    "print(people)\n",
    "\n",
    "people['c']= {'name': 'Peter', 'age': '29', 'sex': 'Male', 'married': 'Yes'}\n",
    "\n",
    "print(people)"
   ]
  },
  {
   "cell_type": "markdown",
   "metadata": {},
   "source": [
    "# QUIZ\n",
    "Print the Person ID for all records whose age are greater than 25.\n",
    "\n",
    "The data is as follows:\n",
    "\n",
    "    \n",
    "ID, name, age, sex\n",
    "\n",
    "1, John, 27, Male\n",
    "\n",
    "2, Marie, 22, Female\n",
    "\n",
    "3, Luna, 24, Female\n",
    "\n",
    "4, Peter, 29, Male\n"
   ]
  },
  {
   "cell_type": "code",
   "execution_count": 2,
   "metadata": {},
   "outputs": [
    {
     "name": "stdout",
     "output_type": "stream",
     "text": [
      "Person ID: 1   age: 27\n",
      "Person ID: 4   age: 29\n"
     ]
    }
   ],
   "source": [
    "# SOLUTION\n",
    "# For loop, iterates through each record of dictionary\n",
    "people = {1: {'name': 'John', 'age': '27', 'sex': 'Male'},\n",
    "          2: {'name': 'Marie', 'age': '22', 'sex': 'Female'},\n",
    "          3: {'name': 'Luna', 'age': '24', 'sex': 'Female'},\n",
    "          4: {'name': 'Peter', 'age': '29', 'sex': 'Male'}}\n",
    "\n",
    "for p_id, p_info in people.items():   \n",
    "    for key in p_info:\n",
    "        if (key == 'age' and int(p_info[key]) > 25):\n",
    "            print('Person ID:', p_id, ' ', key + ':', p_info[key])"
   ]
  },
  {
   "cell_type": "markdown",
   "metadata": {},
   "source": [
    "# HOMEWORK\n",
    "With the same dataset of QUIZ do the following:\n",
    "\n",
    "1. Replace 'John' with 'Kevin'\n",
    "\n",
    "2. Delete 'Peter'\n",
    "\n",
    "3. Add: 'Bala', 25, Male to the dictionary\n",
    "\n",
    "4. *Advanced* Print 'Person ID' and 'Name' for Males above 25 years *HINT: You will need to use a True/False flag"
   ]
  },
  {
   "cell_type": "code",
   "execution_count": 26,
   "metadata": {},
   "outputs": [
    {
     "name": "stdout",
     "output_type": "stream",
     "text": [
      "Answer 1:  {'name': 'Kevin', 'age': '27', 'sex': 'Male'}\n",
      "\n",
      "Answer 2:  {1: {'name': 'Kevin', 'age': '27', 'sex': 'Male'}, 2: {'name': 'Marie', 'age': '22', 'sex': 'Female'}, 3: {'name': 'Luna', 'age': '24', 'sex': 'Female'}}\n",
      "\n",
      "Answer 3:  {1: {'name': 'Kevin', 'age': '27', 'sex': 'Male'}, 2: {'name': 'Marie', 'age': '22', 'sex': 'Female'}, 3: {'name': 'Luna', 'age': '24', 'sex': 'Female'}, 4: {'name': 'Bala', 'age': '25', 'sex': 'Male'}}\n",
      "\n",
      "Answer 4: \n",
      "Person ID: 1   Name: Kevin   Sex: Male   27\n"
     ]
    }
   ],
   "source": [
    "# SOLUTION\n",
    "# For loop, iterates through each record of dictionary\n",
    "people = {1: {'name': 'John', 'age': '27', 'sex': 'Male'},\n",
    "          2: {'name': 'Marie', 'age': '22', 'sex': 'Female'},\n",
    "          3: {'name': 'Luna', 'age': '24', 'sex': 'Female'},\n",
    "          4: {'name': 'Peter', 'age': '29', 'sex': 'Male'}}\n",
    "\n",
    "# Question 1\n",
    "people[1]['name'] = 'Kevin'\n",
    "print(\"Answer 1: \", people[1])\n",
    "print()\n",
    "\n",
    "# Question 2\n",
    "del people[4]\n",
    "print(\"Answer 2: \", people)\n",
    "print()\n",
    "\n",
    "# Question 3\n",
    "people[4] = {'name': 'Bala', 'age': '25', 'sex': 'Male'}\n",
    "print(\"Answer 3: \", people)\n",
    "print()\n",
    "\n",
    "# Question 4\n",
    "age_above_28 = False\n",
    "print(\"Answer 4: \")\n",
    "for p_id, p_info in people.items():   \n",
    "    age_above_28 = False\n",
    "    for key in p_info:\n",
    "        if (key == 'age' and int(p_info[key]) > 25):\n",
    "            age_above_28 = True\n",
    "        if (key == 'sex' and p_info[key] == 'Male' and age_above_28 == True):\n",
    "            print('Person ID:', p_id, ' ', 'Name:', p_info['name'], ' ', 'Sex:', p_info['sex'], ' ', p_info['age'])"
   ]
  },
  {
   "cell_type": "code",
   "execution_count": null,
   "metadata": {},
   "outputs": [],
   "source": []
  }
 ],
 "metadata": {
  "kernelspec": {
   "display_name": "Python 3",
   "language": "python",
   "name": "python3"
  },
  "language_info": {
   "codemirror_mode": {
    "name": "ipython",
    "version": 3
   },
   "file_extension": ".py",
   "mimetype": "text/x-python",
   "name": "python",
   "nbconvert_exporter": "python",
   "pygments_lexer": "ipython3",
   "version": "3.8.7"
  }
 },
 "nbformat": 4,
 "nbformat_minor": 4
}
